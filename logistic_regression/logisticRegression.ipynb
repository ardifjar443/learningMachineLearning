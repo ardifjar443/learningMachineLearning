{
 "cells": [
  {
   "cell_type": "code",
   "execution_count": 88,
   "metadata": {},
   "outputs": [],
   "source": [
    "import numpy as np\n",
    "import matplotlib.pyplot as plt\n",
    "import pandas as pd"
   ]
  },
  {
   "cell_type": "code",
   "execution_count": 89,
   "metadata": {},
   "outputs": [],
   "source": [
    "def sigmoid(z):\n",
    "    return 1 / (1 + np.exp(-z))"
   ]
  },
  {
   "cell_type": "code",
   "execution_count": 90,
   "metadata": {},
   "outputs": [],
   "source": [
    "def predict(features, weights):\n",
    "    z = np.dot(features, weights)\n",
    "    return sigmoid(z)"
   ]
  },
  {
   "cell_type": "code",
   "execution_count": 91,
   "metadata": {},
   "outputs": [],
   "source": [
    "def compute_loss(features, target, weights):\n",
    "    predictions = predict(features, weights)\n",
    "    loss = -np.mean(target * np.log(predictions) + (1 - target) * np.log(1 - predictions))\n",
    "    return loss"
   ]
  },
  {
   "cell_type": "code",
   "execution_count": 92,
   "metadata": {},
   "outputs": [],
   "source": [
    "def gradient_descent(features, target, num_iterations, learning_rate):\n",
    "    num_samples, num_features = features.shape\n",
    "    weights = np.zeros(num_features)\n",
    "\n",
    "    for _ in range(num_iterations):\n",
    "        predictions = predict(features, weights)\n",
    "        error = target - predictions\n",
    "        gradient = np.dot(features.T, error) / num_samples\n",
    "        weights += learning_rate * gradient\n",
    "\n",
    "    return weights"
   ]
  },
  {
   "cell_type": "code",
   "execution_count": 93,
   "metadata": {},
   "outputs": [],
   "source": [
    "def normalize_features(features):\n",
    "    mean = np.mean(features, axis=0)\n",
    "    std = np.std(features, axis=0)\n",
    "    std[std == 0] = 1  # Menghindari pembagian dengan nol\n",
    "    normalized_features = (features - mean) / std\n",
    "    return normalized_features\n"
   ]
  },
  {
   "cell_type": "code",
   "execution_count": 94,
   "metadata": {},
   "outputs": [],
   "source": [
    "def plot_decision_boundary(features, target, weights):\n",
    "    plt.figure(figsize=(10, 6))\n",
    "\n",
    "    # Memplot titik data\n",
    "    plt.scatter(features[target == 1][:, 0], features[target == 1][:, 1], color='blue', label='Class 1')\n",
    "    plt.scatter(features[target == 0][:, 0], features[target == 0][:, 1], color='red', label='Class 0')\n",
    "\n",
    "    # Memplot garis keputusan\n",
    "    x_values = np.array([np.min(features[:, 1]), np.max(features[:, 1])])\n",
    "    y_values = -(weights[0] + weights[1] * x_values) / weights[2]\n",
    "    plt.plot(x_values, y_values, color='green', label='Decision Boundary')\n",
    "\n",
    "    plt.xlabel('X')\n",
    "    plt.ylabel('Y')\n",
    "    plt.legend()\n",
    "    plt.title('Logistic Regression')\n",
    "    plt.show()"
   ]
  },
  {
   "cell_type": "code",
   "execution_count": 95,
   "metadata": {},
   "outputs": [],
   "source": [
    "df = pd.read_csv(\"../dataset/ex2data1.txt\", delimiter=\",\")"
   ]
  },
  {
   "cell_type": "code",
   "execution_count": 96,
   "metadata": {},
   "outputs": [],
   "source": [
    "X = df[['x', 'y']].values\n",
    "y = df['kategory'].values"
   ]
  },
  {
   "cell_type": "code",
   "execution_count": 97,
   "metadata": {},
   "outputs": [
    {
     "name": "stdout",
     "output_type": "stream",
     "text": [
      "[[ 1.         34.62365962 78.02469282]\n",
      " [ 1.         30.28671077 43.89499752]\n",
      " [ 1.         35.84740877 72.90219803]\n",
      " [ 1.         60.18259939 86.3085521 ]\n",
      " [ 1.         79.03273605 75.34437644]\n",
      " [ 1.         45.08327748 56.31637178]\n",
      " [ 1.         61.10666454 96.51142588]\n",
      " [ 1.         75.02474557 46.55401354]\n",
      " [ 1.         76.0987867  87.42056972]\n",
      " [ 1.         84.43281996 43.53339331]\n",
      " [ 1.         95.86155507 38.22527806]\n",
      " [ 1.         75.01365839 30.60326323]\n",
      " [ 1.         82.30705337 76.4819633 ]\n",
      " [ 1.         69.36458876 97.71869196]\n",
      " [ 1.         39.53833914 76.03681085]\n",
      " [ 1.         53.97105215 89.20735014]\n",
      " [ 1.         69.07014406 52.74046973]\n",
      " [ 1.         67.94685548 46.67857411]\n",
      " [ 1.         70.66150955 92.92713789]\n",
      " [ 1.         76.97878373 47.57596365]\n",
      " [ 1.         67.37202755 42.83843832]\n",
      " [ 1.         89.67677575 65.79936593]\n",
      " [ 1.         50.53478829 48.85581153]\n",
      " [ 1.         34.21206098 44.2095286 ]\n",
      " [ 1.         77.92409145 68.97235999]\n",
      " [ 1.         62.27101367 69.95445795]\n",
      " [ 1.         80.19018075 44.82162893]\n",
      " [ 1.         93.1143888  38.80067034]\n",
      " [ 1.         61.83020602 50.25610789]\n",
      " [ 1.         38.7858038  64.99568096]\n",
      " [ 1.         61.37928945 72.80788731]\n",
      " [ 1.         85.40451939 57.05198398]\n",
      " [ 1.         52.10797973 63.12762377]\n",
      " [ 1.         52.04540477 69.43286012]\n",
      " [ 1.         40.23689374 71.16774802]\n",
      " [ 1.         54.63510555 52.21388588]\n",
      " [ 1.         33.91550011 98.86943574]\n",
      " [ 1.         64.17698887 80.90806059]\n",
      " [ 1.         74.78925296 41.57341523]\n",
      " [ 1.         34.18364003 75.23772034]\n",
      " [ 1.         83.90239366 56.30804622]\n",
      " [ 1.         51.54772027 46.85629026]\n",
      " [ 1.         94.44336777 65.56892161]\n",
      " [ 1.         82.36875376 40.61825516]\n",
      " [ 1.         51.04775177 45.82270146]\n",
      " [ 1.         62.22267576 52.06099195]\n",
      " [ 1.         77.19303493 70.4582    ]\n",
      " [ 1.         97.77159928 86.72782233]\n",
      " [ 1.         62.0730638  96.76882412]\n",
      " [ 1.         91.5649745  88.69629255]\n",
      " [ 1.         79.94481794 74.16311935]\n",
      " [ 1.         99.27252693 60.999031  ]\n",
      " [ 1.         90.54671411 43.39060181]\n",
      " [ 1.         34.52451385 60.39634246]\n",
      " [ 1.         50.28649612 49.80453881]\n",
      " [ 1.         49.58667722 59.80895099]\n",
      " [ 1.         97.64563396 68.86157272]\n",
      " [ 1.         32.57720017 95.59854761]\n",
      " [ 1.         74.24869137 69.82457123]\n",
      " [ 1.         71.79646206 78.45356225]\n",
      " [ 1.         75.39561147 85.75993667]\n",
      " [ 1.         35.28611282 47.02051395]\n",
      " [ 1.         56.2538175  39.26147251]\n",
      " [ 1.         30.05882245 49.59297387]\n",
      " [ 1.         44.66826172 66.45008615]\n",
      " [ 1.         66.56089447 41.09209808]\n",
      " [ 1.         40.45755098 97.53518549]\n",
      " [ 1.         49.07256322 51.88321182]\n",
      " [ 1.         80.27957401 92.11606081]\n",
      " [ 1.         66.74671857 60.99139403]\n",
      " [ 1.         32.72283304 43.30717306]\n",
      " [ 1.         64.03932042 78.03168802]\n",
      " [ 1.         72.34649423 96.22759297]\n",
      " [ 1.         60.45788574 73.0949981 ]\n",
      " [ 1.         58.84095622 75.85844831]\n",
      " [ 1.         99.8278578  72.36925193]\n",
      " [ 1.         47.26426911 88.475865  ]\n",
      " [ 1.         50.4581598  75.80985953]\n",
      " [ 1.         60.45555629 42.50840944]\n",
      " [ 1.         82.22666158 42.71987854]\n",
      " [ 1.         88.91389642 69.8037889 ]\n",
      " [ 1.         94.83450672 45.6943068 ]\n",
      " [ 1.         67.31925747 66.58935318]\n",
      " [ 1.         57.23870632 59.51428198]\n",
      " [ 1.         80.366756   90.9601479 ]\n",
      " [ 1.         68.46852179 85.5943071 ]\n",
      " [ 1.         42.07545454 78.844786  ]\n",
      " [ 1.         75.47770201 90.424539  ]\n",
      " [ 1.         78.63542435 96.64742717]\n",
      " [ 1.         52.34800399 60.76950526]\n",
      " [ 1.         94.09433113 77.15910509]\n",
      " [ 1.         90.44855097 87.50879176]\n",
      " [ 1.         55.48216114 35.57070347]\n",
      " [ 1.         74.49269242 84.84513685]\n",
      " [ 1.         89.84580671 45.35828361]\n",
      " [ 1.         83.48916274 48.3802858 ]\n",
      " [ 1.         42.26170081 87.10385094]\n",
      " [ 1.         99.31500881 68.77540947]\n",
      " [ 1.         55.34001756 64.93193801]\n",
      " [ 1.         74.775893   89.5298129 ]]\n"
     ]
    }
   ],
   "source": [
    "X_with_bias = np.c_[np.ones((X.shape[0], 1)), X]\n",
    "print(X_with_bias)"
   ]
  },
  {
   "cell_type": "code",
   "execution_count": 98,
   "metadata": {},
   "outputs": [
    {
     "name": "stdout",
     "output_type": "stream",
     "text": [
      "[[ 0.         -1.60224763  0.63834112]\n",
      " [ 0.         -1.82625564 -1.2075414 ]\n",
      " [ 0.         -1.53903969  0.3612943 ]\n",
      " [ 0.         -0.28210129  1.0863683 ]\n",
      " [ 0.          0.69152826  0.49337794]\n",
      " [ 0.         -1.06199728 -0.5357394 ]\n",
      " [ 0.         -0.23437234  1.63818413]\n",
      " [ 0.          0.4845113  -1.06373024]\n",
      " [ 0.          0.53998666  1.14651105]\n",
      " [ 0.          0.97044832 -1.22709853]\n",
      " [ 0.          1.56075461 -1.51418452]\n",
      " [ 0.          0.48393864 -1.92641626]\n",
      " [ 0.          0.86065022  0.55490359]\n",
      " [ 0.          0.1921582   1.70347834]\n",
      " [ 0.         -1.34839922  0.53082781]\n",
      " [ 0.         -0.60293429  1.24314792]\n",
      " [ 0.          0.17694982 -0.72913975]\n",
      " [ 0.          0.11893077 -1.05699346]\n",
      " [ 0.          0.25914553  1.44433023]\n",
      " [ 0.          0.58543944 -1.00845873]\n",
      " [ 0.          0.0892403  -1.26468472]\n",
      " [ 0.          1.2413042  -0.02285779]\n",
      " [ 0.         -0.78042096 -0.93923898]\n",
      " [ 0.         -1.62350714 -1.19053019]\n",
      " [ 0.          0.63426559  0.14875155]\n",
      " [ 0.         -0.17423248  0.20186768]\n",
      " [ 0.          0.75131151 -1.15742514]\n",
      " [ 0.          1.41886056 -1.4830648 ]\n",
      " [ 0.         -0.19700066 -0.86350486]\n",
      " [ 0.         -1.38726847 -0.06632457]\n",
      " [ 0.         -0.22029098  0.35619356]\n",
      " [ 0.          1.02063763 -0.49595429]\n",
      " [ 0.         -0.69916396 -0.16735724]\n",
      " [ 0.         -0.70239602  0.1736574 ]\n",
      " [ 0.         -1.31231814  0.26748769]\n",
      " [ 0.         -0.56863523 -0.7576197 ]\n",
      " [ 0.         -1.63882482  1.76571557]\n",
      " [ 0.         -0.07578684  0.7942862 ]\n",
      " [ 0.          0.47234786 -1.33310268]\n",
      " [ 0.         -1.62497511  0.48760951]\n",
      " [ 0.          0.94305124 -0.53618968]\n",
      " [ 0.         -0.72810195 -1.0473818 ]\n",
      " [ 0.          1.48750373 -0.03532122]\n",
      " [ 0.          0.86383711 -1.38476189]\n",
      " [ 0.         -0.75392586 -1.10328278]\n",
      " [ 0.         -0.17672918 -0.76588887]\n",
      " [ 0.          0.59650575  0.22911224]\n",
      " [ 0.          1.65941042  1.10904426]\n",
      " [ 0.         -0.1844568   1.65210535]\n",
      " [ 0.          1.33883167  1.2155077 ]\n",
      " [ 0.          0.73863826  0.42949041]\n",
      " [ 0.          1.73693492 -0.2824808 ]\n",
      " [ 0.          1.28623744 -1.23482132]\n",
      " [ 0.         -1.60736862 -0.31507682]\n",
      " [ 0.         -0.79324552 -0.88792768]\n",
      " [ 0.         -0.82939191 -0.34684551]\n",
      " [ 0.          1.65290418  0.14275969]\n",
      " [ 0.         -1.70794943  1.5888117 ]\n",
      " [ 0.          0.44442728  0.19484284]\n",
      " [ 0.          0.31776703  0.66153625]\n",
      " [ 0.          0.50366692  1.05669679]\n",
      " [ 0.         -1.56803122 -1.03849986]\n",
      " [ 0.         -0.48502704 -1.45814261]\n",
      " [ 0.         -1.83802631 -0.89937003]\n",
      " [ 0.         -1.08343328  0.012336  ]\n",
      " [ 0.          0.04734442 -1.35913441]\n",
      " [ 0.         -1.30092096  1.69355351]\n",
      " [ 0.         -0.85594644 -0.77550399]\n",
      " [ 0.          0.75592876  1.40046365]\n",
      " [ 0.          0.05694243 -0.28289384]\n",
      " [ 0.         -1.70042734 -1.23933351]\n",
      " [ 0.         -0.08289756  0.63871945]\n",
      " [ 0.          0.34617678  1.62283321]\n",
      " [ 0.         -0.26788246  0.37172177]\n",
      " [ 0.         -0.35139858  0.52118118]\n",
      " [ 0.          1.76561835  0.33247025]\n",
      " [ 0.         -0.94934675  1.20358601]\n",
      " [ 0.         -0.78437891  0.51855329]\n",
      " [ 0.         -0.26800277 -1.28253412]\n",
      " [ 0.          0.8564979  -1.27109695]\n",
      " [ 0.          1.20190067  0.19371884]\n",
      " [ 0.          1.50770647 -1.11022692]\n",
      " [ 0.          0.08651467  0.01986816]\n",
      " [ 0.         -0.43415649 -0.36278249]\n",
      " [ 0.          0.76043181  1.33794685]\n",
      " [ 0.          0.14587539  1.04773882]\n",
      " [ 0.         -1.21735452  0.68269533]\n",
      " [ 0.          0.50790698  1.30897879]\n",
      " [ 0.          0.67100669  1.64553968]\n",
      " [ 0.         -0.68676645 -0.29489455]\n",
      " [ 0.          1.46947562  0.59152637]\n",
      " [ 0.          1.28116721  1.15128248]\n",
      " [ 0.         -0.52488391 -1.65775547]\n",
      " [ 0.          0.45703019  1.00722043]\n",
      " [ 0.          1.25003483 -1.12840052]\n",
      " [ 0.          0.92170742 -0.96495748]\n",
      " [ 0.         -1.2077347   1.12938152]\n",
      " [ 0.          1.73912916  0.13809961]\n",
      " [ 0.         -0.53222578 -0.06977207]\n",
      " [ 0.          0.4716578   1.26058811]]\n"
     ]
    }
   ],
   "source": [
    "X_normalized = normalize_features(X_with_bias)\n",
    "print(X_normalized)"
   ]
  },
  {
   "cell_type": "code",
   "execution_count": 99,
   "metadata": {},
   "outputs": [],
   "source": [
    "learning_rate = 0.1\n",
    "num_iterations = 1000"
   ]
  },
  {
   "cell_type": "code",
   "execution_count": 100,
   "metadata": {},
   "outputs": [],
   "source": [
    "weights = gradient_descent(X_normalized, y, num_iterations, learning_rate)"
   ]
  },
  {
   "cell_type": "code",
   "execution_count": 115,
   "metadata": {},
   "outputs": [
    {
     "name": "stdout",
     "output_type": "stream",
     "text": [
      "Final Loss: nan\n"
     ]
    },
    {
     "name": "stderr",
     "output_type": "stream",
     "text": [
      "/var/folders/1q/ttq7y9792hl1j72br9_w4vzw0000gn/T/ipykernel_5926/2429025495.py:3: RuntimeWarning: divide by zero encountered in log\n",
      "  loss = -np.mean(target * np.log(predictions) + (1 - target) * np.log(1 - predictions))\n",
      "/var/folders/1q/ttq7y9792hl1j72br9_w4vzw0000gn/T/ipykernel_5926/2429025495.py:3: RuntimeWarning: invalid value encountered in multiply\n",
      "  loss = -np.mean(target * np.log(predictions) + (1 - target) * np.log(1 - predictions))\n"
     ]
    }
   ],
   "source": [
    "final_loss = compute_loss(X_with_bias, y, weights)\n",
    "print(\"Final Loss:\", final_loss)"
   ]
  },
  {
   "cell_type": "code",
   "execution_count": 116,
   "metadata": {},
   "outputs": [
    {
     "name": "stdout",
     "output_type": "stream",
     "text": [
      "[0.         2.62124211 2.32829984]\n"
     ]
    }
   ],
   "source": [
    "print(weights)"
   ]
  },
  {
   "cell_type": "code",
   "execution_count": 121,
   "metadata": {},
   "outputs": [
    {
     "data": {
      "image/png": "[encoded data removed]",
      "text/plain": [
       "<Figure size 1000x600 with 1 Axes>"
      ]
     },
     "metadata": {},
     "output_type": "display_data"
    }
   ],
   "source": [
    "plot_decision_boundary(X_normalized[:, 1:], y, weights)"
   ]
  },
  {
   "cell_type": "code",
   "execution_count": 122,
   "metadata": {},
   "outputs": [
    {
     "name": "stdout",
     "output_type": "stream",
     "text": [
      "Predictions:\n",
      "[0.00771494 0.91595451 0.77453917 0.77453917]\n"
     ]
    }
   ],
   "source": [
    "features_to_predict = np.array([\n",
    "     [1, 67.94685548, 46.67857411],  # Contoh fitur baru 1\n",
    "    [1, 70.66150955, 92.92713789],  # Contoh fitur baru 2\n",
    "    [1, 76.97878373, 47.57596365] ,\n",
    "    [1, 76.97878373, 47.57596365] \n",
    "    \n",
    "    \n",
    "])\n",
    "predictions = predict(normalize_features(features_to_predict), weights)\n",
    "print(\"Predictions:\")\n",
    "print(predictions)"
   ]
  },
  {
   "cell_type": "code",
   "execution_count": null,
   "metadata": {},
   "outputs": [],
   "source": []
  }
 ],
 "metadata": {
  "kernelspec": {
   "display_name": ".env",
   "language": "python",
   "name": "python3"
  },
  "language_info": {
   "codemirror_mode": {
    "name": "ipython",
    "version": 3
   },
   "file_extension": ".py",
   "mimetype": "text/x-python",
   "name": "python",
   "nbconvert_exporter": "python",
   "pygments_lexer": "ipython3",
   "version": "3.11.6"
  }
 },
 "nbformat": 4,
 "nbformat_minor": 2
}
